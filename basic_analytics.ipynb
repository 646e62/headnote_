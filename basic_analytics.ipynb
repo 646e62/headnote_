{
 "cells": [
  {
   "cell_type": "markdown",
   "metadata": {},
   "source": [
    "# Basic informatic functions"
   ]
  },
  {
   "cell_type": "markdown",
   "metadata": {},
   "source": [
    "This notebook showcases some basic functions that demonstrate some of the analytic insights available using the legal-citation-parser tool. These simple proof-of-concept functions are intended to demonstrate that the tool is capable of assisting with basic legal informatics."
   ]
  },
  {
   "cell_type": "markdown",
   "metadata": {},
   "source": [
    "## Imports\n",
    "\n",
    "The basic informatic functions are built around the ``legal-citation-parser`` package. For simple data analysis, I use the Counter class from ``collections``"
   ]
  },
  {
   "cell_type": "code",
   "execution_count": null,
   "metadata": {},
   "outputs": [],
   "source": [
    "import matplotlib.pyplot as plt\n",
    "\n",
    "from collections import Counter\n",
    "from legal_citation_parser import create_citation, parse_citation"
   ]
  },
  {
   "cell_type": "markdown",
   "metadata": {},
   "source": [
    "## Constants\n",
    "\n",
    "For now, the only constants this program needs are the lengthened province & territory names that allow the program to display more readable output."
   ]
  },
  {
   "cell_type": "code",
   "execution_count": null,
   "metadata": {},
   "outputs": [],
   "source": [
    "# Constants file for output strings\n",
    "\n",
    "ABBREVIATION_MAP = {\n",
    "    \"bc\": \"British Columbia\",\n",
    "    \"ab\": \"Alberta\",\n",
    "    \"sk\": \"Saskatchewan\",\n",
    "    \"mb\": \"Manitoba\",\n",
    "    \"on\": \"Ontario\",\n",
    "    \"qc\": \"Quebec\",\n",
    "    \"nb\": \"New Brunswick\",\n",
    "    \"ns\": \"Nova Scotia\",\n",
    "    \"pe\": \"Prince Edward Island\",\n",
    "    \"nl\": \"Newfoundland and Labrador\",\n",
    "    \"yt\": \"Yukon\",\n",
    "    \"nt\": \"Northwest Territories\",\n",
    "    \"nu\": \"Nunavut\",\n",
    "    \"ca\": \"Canada\",\n",
    "}\n"
   ]
  },
  {
   "cell_type": "code",
   "execution_count": null,
   "metadata": {},
   "outputs": [],
   "source": [
    "def validate_kwargs(citation: str, cited: bool, citing: bool) -> list:\n",
    "    \"\"\"\n",
    "    DRY function used to validate the keyword arguments passed to the function. \n",
    "    Future analytics may want to use both cited and citing kwargs, but that's not\n",
    "    the case for these basic ones.\n",
    "\n",
    "    Args:\n",
    "        citation (str): The citation string to be parsed.\n",
    "        cited (bool): Whether the function is to return cited cases.\n",
    "        citing (bool): Whether the function is to return citing cases.\n",
    "\n",
    "    Returns:\n",
    "        case_list (list): A list of cases that are either cited or citing.\n",
    "    \"\"\"\n",
    "\n",
    "    if cited and not citing:\n",
    "        case = create_citation(citation, cited=True)\n",
    "        case_info = case.parse()\n",
    "        case_list = case_info[\"cited_cases\"]['citedCases']\n",
    "\n",
    "        return case_list\n",
    "    \n",
    "    elif citing and not cited:\n",
    "        case = create_citation(citation, citing=True)\n",
    "        case_info = case.parse()\n",
    "        case_list = case_info[\"citing_cases\"]['citingCases']\n",
    "\n",
    "        return case_list\n",
    "    \n",
    "    else:\n",
    "        \n",
    "        return {\"error\": \"Function must operate on either the cited_cases or citing_cases list. Run jurisdiction(citation, cited=True) or (... citing=True).\"}"
   ]
  },
  {
   "cell_type": "markdown",
   "metadata": {},
   "source": [
    "## Jurisdiction/court level analysis using cited_cases"
   ]
  },
  {
   "cell_type": "code",
   "execution_count": null,
   "metadata": {},
   "outputs": [],
   "source": [
    "def jurisdiction(citation: str, cited=False, citing=False) -> dict:\n",
    "    \"\"\"\n",
    "\n",
    "    \"\"\"\n",
    " \n",
    "    case_list = validate_kwargs(citation, cited, citing)\n",
    "    parsed_case_list = []\n",
    "\n",
    "    for case in case_list:\n",
    "        case_info = parse_citation(case[\"title\"] + \", \" + case[\"citation\"])\n",
    "        parsed_case_list.append(case_info)\n",
    "\n",
    "    # Replace abbreviations with full names\n",
    "    for case in parsed_case_list:\n",
    "        if case[\"jurisdiction\"] in ABBREVIATION_MAP:\n",
    "            case[\"jurisdiction\"] = ABBREVIATION_MAP[case[\"jurisdiction\"]]\n",
    "\n",
    "    jurisdictions = [case[\"jurisdiction\"] for case in parsed_case_list]\n",
    "    jurisdiction_counts = Counter(jurisdictions)\n",
    "\n",
    "    levels = [case[\"court_level\"] for case in parsed_case_list]\n",
    "    level_counts = Counter(levels)\n",
    "\n",
    "    courts = [case[\"jurisdiction\"] + \" \" + case[\"court_level\"] for case in parsed_case_list]\n",
    "    court_counts = Counter(courts)\n",
    "\n",
    "    return jurisdiction_counts, level_counts, court_counts\n"
   ]
  },
  {
   "cell_type": "markdown",
   "metadata": {},
   "source": [
    "### User input\n",
    "\n",
    "Run the cell below to input a citation. Note: this program requires a CanLII API key to run, and will prompt the user for one if one is not stored as an environment variable."
   ]
  },
  {
   "cell_type": "code",
   "execution_count": null,
   "metadata": {},
   "outputs": [],
   "source": [
    "citation = input(\"Enter a CanLII citation: \")\n",
    "\n",
    "jurisdiction_analysis = jurisdiction(citation, cited=True)\n",
    "\n",
    "print(\"\\nJusrisdiction analysis\")\n",
    "for item, count in jurisdiction_analysis[0].items():\n",
    "    print(f\"{item}: {count}\")\n",
    "\n",
    "print(\"\\n\\nLevel analysis\")\n",
    "for item, count in jurisdiction_analysis[1].items():\n",
    "    print(f\"{item}: {count}\")\n",
    "\n",
    "print(\"\\n\\nCourt analysis\")\n",
    "for item, count in jurisdiction_analysis[2].items():\n",
    "    print(f\"{item}: {count}\")"
   ]
  },
  {
   "cell_type": "markdown",
   "metadata": {},
   "source": [
    "## Citation frequency analysis using citing_cases"
   ]
  },
  {
   "cell_type": "code",
   "execution_count": null,
   "metadata": {},
   "outputs": [],
   "source": [
    "def citation_frequency(citation, cited=False, citing=False):\n",
    "    \"\"\"\n",
    "\n",
    "    \"\"\"\n",
    "\n",
    "    case_list = validate_kwargs(citation, cited, citing)\n",
    "    parsed_case_list = []\n",
    "\n",
    "    # Count the frequency of each case by year, using the year as the key\n",
    "    # Note that each case has a \"year\" attribute\n",
    "    \n",
    "    for case in case_list:\n",
    "        case_info = parse_citation(case[\"title\"] + \", \" + case[\"citation\"])\n",
    "        parsed_case_list.append(case_info[\"year\"])\n",
    "\n",
    "    year_counts = Counter(parsed_case_list)\n",
    "\n",
    "    return year_counts\n"
   ]
  },
  {
   "cell_type": "markdown",
   "metadata": {},
   "source": [
    "### User input\n",
    "\n",
    "Run the cell below to input a citation. Note: this program requires a CanLII API key to run, and will prompt the user for one if one is not stored as an environment variable."
   ]
  },
  {
   "cell_type": "code",
   "execution_count": null,
   "metadata": {},
   "outputs": [],
   "source": [
    "citation = input(\"Enter a CanLII citation: \")\n",
    "\n",
    "citation_frequency_analysis = citation_frequency(citation, citing=True)\n",
    "years = sorted(citation_frequency_analysis.keys())\n",
    "frequencies = [citation_frequency_analysis[year] for year in years]\n",
    "\n",
    "# Get the case name\n",
    "case = create_citation(citation)\n",
    "case_name = case.style_of_cause + \", \" + case.atomic_citation\n",
    "\n",
    "# Create a bar plot\n",
    "plt.figure(figsize=(10, 6))\n",
    "plt.bar(years, frequencies, color='orange')\n",
    "plt.title(f'Citation Frequency Analysis for {case_name}')\n",
    "plt.xlabel('Year')\n",
    "plt.ylabel('Frequency')\n",
    "\n",
    "# Show the plot\n",
    "plt.show()"
   ]
  }
 ],
 "metadata": {
  "kernelspec": {
   "display_name": "Python 3",
   "language": "python",
   "name": "python3"
  },
  "language_info": {
   "codemirror_mode": {
    "name": "ipython",
    "version": 3
   },
   "file_extension": ".py",
   "mimetype": "text/x-python",
   "name": "python",
   "nbconvert_exporter": "python",
   "pygments_lexer": "ipython3",
   "version": "3.10.12"
  }
 },
 "nbformat": 4,
 "nbformat_minor": 2
}
