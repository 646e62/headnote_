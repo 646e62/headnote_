{
 "cells": [
  {
   "cell_type": "code",
   "execution_count": 9,
   "metadata": {},
   "outputs": [],
   "source": [
    "from collections import Counter\n",
    "from legal_citation_parser import create_citation, parse_citation"
   ]
  },
  {
   "cell_type": "code",
   "execution_count": 6,
   "metadata": {},
   "outputs": [
    {
     "name": "stdout",
     "output_type": "stream",
     "text": [
      "{'uid': '2024scc25', 'style_of_cause': 'R v Hodgson', 'atomic_citation': '2024 SCC 25', 'citation_type': 'neutral', 'official_reporter_citation': None, 'year': '2024', 'court': 'csc-scc', 'decision_number': '25', 'jurisdiction': 'ca', 'court_name': 'Supreme Court of Canada', 'court_level': 'federal appellate', 'long_url': 'https://www.canlii.org/en/ca/csc-scc/doc/2024/2024scc25/2024scc25.html', 'url_verified': False, 'short_url': None, 'language': 'en', 'docket_number': None, 'decision_date': None, 'keywords': [], 'categories': [], 'cited_cases': [], 'citing_cases': [], 'error': None}\n"
     ]
    }
   ],
   "source": [
    "case = create_citation(\"R. v. Hodgson, 2024 SCC 25\")\n",
    "print(case.parse())"
   ]
  },
  {
   "cell_type": "code",
   "execution_count": 7,
   "metadata": {},
   "outputs": [],
   "source": [
    "# Constants file for output strings\n",
    "\n",
    "ABBREVIATION_MAP = {\n",
    "    \"bc\": \"British Columbia\",\n",
    "    \"ab\": \"Alberta\",\n",
    "    \"sk\": \"Saskatchewan\",\n",
    "    \"mb\": \"Manitoba\",\n",
    "    \"on\": \"Ontario\",\n",
    "    \"qc\": \"Quebec\",\n",
    "    \"nb\": \"New Brunswick\",\n",
    "    \"ns\": \"Nova Scotia\",\n",
    "    \"pe\": \"Prince Edward Island\",\n",
    "    \"nl\": \"Newfoundland and Labrador\",\n",
    "    \"yt\": \"Yukon\",\n",
    "    \"nt\": \"Northwest Territories\",\n",
    "    \"nu\": \"Nunavut\",\n",
    "    \"ca\": \"Canada\",\n",
    "}\n"
   ]
  },
  {
   "cell_type": "code",
   "execution_count": null,
   "metadata": {},
   "outputs": [],
   "source": [
    "def parse_case_list(case_list: list) -> list:\n",
    "    \"\"\"\n",
    "    Parses a list of case citations to extract key information about the court cases.\n",
    "\n",
    "    Args:\n",
    "        case_list (list): A list of citation strings to parse.\n",
    "\n",
    "    Returns:\n",
    "        list: A list of dictionaries containing the parsed information for each case,\n",
    "        including the style of cause, citation, citation type (neutral or CanLII), year,\n",
    "        court code, decision number, jurisdiction, court name, and court level.\n",
    "    \"\"\"\n",
    "\n",
    "    case_list_parsed = []\n",
    "\n",
    "    for case in case_list:\n",
    "        case_info = parse_citation(case[\"title\"] + \", \" + case[\"citation\"])\n",
    "        case_list_parsed.append(case_info)\n",
    "\n",
    "    return case_list_parsed\n",
    "\n",
    "def count_jurisdictions(case_list: list) -> dict:\n",
    "    \"\"\"\n",
    "    Counts the number of cases from each jurisdiction in a list of parsed cases.\n",
    "\n",
    "    Args:\n",
    "        case_list (list): A list of parsed case dictionaries.\n",
    "\n",
    "    Returns:\n",
    "        dict: A dictionary where the keys are the jurisdiction names and the values are the\n",
    "        number of cases from each jurisdiction.\n",
    "    \"\"\"\n",
    "\n",
    "    jurisdictions = [case[\"jurisdiction\"] + \" \" + case[\"court_level\"] for case in case_list]\n",
    "    jurisdiction_counts = Counter(jurisdictions)\n",
    "\n",
    "    return jurisdiction_counts\n",
    "\n"
   ]
  }
 ],
 "metadata": {
  "kernelspec": {
   "display_name": "Python 3",
   "language": "python",
   "name": "python3"
  },
  "language_info": {
   "codemirror_mode": {
    "name": "ipython",
    "version": 3
   },
   "file_extension": ".py",
   "mimetype": "text/x-python",
   "name": "python",
   "nbconvert_exporter": "python",
   "pygments_lexer": "ipython3",
   "version": "3.10.12"
  }
 },
 "nbformat": 4,
 "nbformat_minor": 2
}
