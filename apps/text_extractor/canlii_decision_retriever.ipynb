{
 "cells": [
  {
   "cell_type": "markdown",
   "id": "3b39749c",
   "metadata": {},
   "source": [
    "# CanLII decision retriever\n"
   ]
  },
  {
   "cell_type": "markdown",
   "id": "b989eaca",
   "metadata": {
    "tags": []
   },
   "source": [
    "## Import libraries\n",
    "The decision retrieval tool uses the following libraries:\n",
    "* __Requests__\n",
    "    * Allows the program to convert a shortened CanLII URL into a full CanLII URL\n",
    "    * The full CanLII URL provides a directory structure for storying decisions locally\n",
    "* __Validators__\n",
    "    * Enables user input by providing URL verification\n",
    "* __OS__\n",
    "    * Lets the program save the retrieved decision locally"
   ]
  },
  {
   "cell_type": "code",
   "execution_count": 2,
   "id": "c06dbffe",
   "metadata": {
    "tags": []
   },
   "outputs": [],
   "source": [
    "import requests\n",
    "import validators\n",
    "import os"
   ]
  },
  {
   "cell_type": "markdown",
   "id": "a342ea8f",
   "metadata": {
    "tags": []
   },
   "source": [
    "## Validate the user's input\n",
    "In production, the function takes a user's input and assigns it to ```url```. Once the user has provided a URL, that input will need to be checked to ensure it's a valid CanLII URL. This validation involves answering a few questions:\n",
    "* Is the input a URL at all?\n",
    "* Is the URL a CanLII URL?\n",
    "\n",
    "Once the function verifies that the URL is a valid CanLII URL, it checks to see if the URL is either a shortened URL or contains query characters. If the URL is shortened, it retrieves the full version. If the URL contains query characters, it removes them.\n",
    "* Is the CanLII URL shortened or full?\n",
    "* Are there query characters appended to the URL?"
   ]
  },
  {
   "cell_type": "markdown",
   "id": "60e4c8d7",
   "metadata": {
    "tags": []
   },
   "source": [
    "### Verify that the input is a CanLII URL\n",
    "The ```validators``` library includes a URL validator function. The ```verify_url``` function uses ```validators.url``` to check the user input. If the input is valid, it passes to the next check. If the input is invalid, the function calls for the user to provide new input and calls itself to re-validate it. \n",
    "\n",
    "Once the program verifies that the user inputted a URL, it next checks to see whether the URL is a CanLII URL. It does so by checking to see whether the URL contains the strings ```'https://canlii.ca'``` or ```'https://www.canlii.org'```."
   ]
  },
  {
   "cell_type": "code",
   "execution_count": 8,
   "id": "1b88144d",
   "metadata": {
    "tags": []
   },
   "outputs": [],
   "source": [
    "def verify_url(url: str = \"https://canlii.ca/t/jnnxk\")->str:\n",
    "    if validators.url(url) == True:\n",
    "        print(\"* Valid URL\")\n",
    "    else:\n",
    "        print(\"* Invalid URL\")\n",
    "        url = input(\"\\t* Enter a valid URL: \")\n",
    "        verify_url(url)\n",
    "    if \"https://canlii.ca\" in url or \"https://www.canlii.org\" in url:\n",
    "        print(\"* CanlII URL\")\n",
    "        return url\n",
    "    else:\n",
    "        print(\"* Not a CanLII URL.\")\n",
    "        url = input(\"\\t* Enter a CanLII URL: \")\n",
    "        verify_url(url)"
   ]
  },
  {
   "cell_type": "markdown",
   "id": "cb3a639a",
   "metadata": {
    "tags": []
   },
   "source": [
    "### Resolve the URL into a path\n",
    "* Checks to see if the URL is a shortened URL, and retrieves the full version if so\n",
    "    * __NOTE__: currently experiencing 429 timeouts\n",
    "* Checks for query characters and removes them if present\n",
    "* Splits the URL into its components\n",
    "* Returns the jurisdiction, court, and year components as a path to a directory"
   ]
  },
  {
   "cell_type": "code",
   "execution_count": 17,
   "id": "bfbc8d66",
   "metadata": {
    "tags": []
   },
   "outputs": [],
   "source": [
    "def resolve_url(url: str)->tuple:\n",
    "    '''\n",
    "    CanLII URLs use the following structure:\n",
    "    \n",
    "        {scheme}{separator}{language}/{jurisdiction}/{court}/{type}/{year}/\n",
    "        {citation}/{file}\n",
    "        \n",
    "    This function returns a path where CanLII decisions can be saved, sorted by\n",
    "    jurisdiction-court-year\n",
    "    '''\n",
    "    \n",
    "    # Retrieves the full URL if the user provides the shortened form\n",
    "    if \"canlii.ca\" in url:\n",
    "        print(\"Shortened URL\")\n",
    "        url = requests.get(url)\n",
    "        if requests.get(url) == 429:\n",
    "            print(\"Request timeout\")\n",
    "            return\n",
    "        elif requests.get(url) == 404:\n",
    "            print(\"* Requested file doesn't exist\")\n",
    "            return\n",
    "        else:\n",
    "            url = requests.get(url).url\n",
    "            print(\"* URL: \" + url)\n",
    "\n",
    "    # Removes query characters, if present\n",
    "    if \"?\" in url:\n",
    "        print(\"* Query characters detected\")\n",
    "        url = url.split('?')[0]\n",
    "        print(\"\\t* Removed\")\n",
    "        print(\"* URL: \" + url)\n",
    "    else:\n",
    "        print(\"* URL: \" + url)\n",
    "    # Splits the URL into components\n",
    "    split_url = url.split('/')\n",
    "\n",
    "    # Exports a path based on the jurisdiction, court, and year\n",
    "    jurisdiction = split_url[4]\n",
    "    court = split_url[5]\n",
    "    year = split_url[7]\n",
    "    path =  f\"canlii_data/{jurisdiction}/{court}/{year}\"\n",
    "    file_name = split_url[-1]\n",
    "    print(f\"* Path: {path}/{file_name}\")\n",
    "    \n",
    "    return file_name, path, url"
   ]
  },
  {
   "cell_type": "markdown",
   "id": "b4d5eab6-e092-446e-92b0-2b1c6dce7270",
   "metadata": {},
   "source": [
    "## Download decision"
   ]
  },
  {
   "cell_type": "code",
   "execution_count": 11,
   "id": "d9b8e2dc",
   "metadata": {
    "tags": []
   },
   "outputs": [],
   "source": [
    "def download_decision(file_name: str, path: str, url: str)->str:\n",
    "    if file_name is None or path is None:\n",
    "        raise Exception(\"Input type is None\")\n",
    "        return\n",
    "    if os.path.exists(f\"{path}/{file_name}\"):\n",
    "        print(\"* WARNING: File already exists\")\n",
    "        return\n",
    "    else:\n",
    "        file_path = f\"{path}/{file_name}\"\n",
    "\n",
    "        # Get the HTML of the decision\n",
    "        response = requests.get(url)\n",
    "        html = response.text\n",
    "\n",
    "        # Write the HTML to a file\n",
    "        with open(file_path, 'w') as f:\n",
    "            f.write(html)\n",
    "        print(f\"* Saved as {path}/{file_name}\")\n",
    "        # return file_path"
   ]
  },
  {
   "cell_type": "markdown",
   "id": "4a1567b8-73e2-4b67-911e-de3e15eb3c75",
   "metadata": {},
   "source": [
    "# Execute the functions"
   ]
  },
  {
   "cell_type": "code",
   "execution_count": 18,
   "id": "19d659e6-da3d-49ae-ae5f-e4156ca1466c",
   "metadata": {
    "tags": []
   },
   "outputs": [
    {
     "name": "stdin",
     "output_type": "stream",
     "text": [
      "Enter a CanLII URL:  https://www.canlii.org/en/ca/scc/doc/1990/1990canlii142/1990canlii142.html\n"
     ]
    },
    {
     "name": "stdout",
     "output_type": "stream",
     "text": [
      "* Valid URL\n",
      "* CanlII URL\n",
      "* URL: https://www.canlii.org/en/ca/scc/doc/1990/1990canlii142/1990canlii142.html\n",
      "* Path: canlii_data/ca/scc/1990/1990canlii142.html\n",
      "* Saved as canlii_data/ca/scc/1990/1990canlii142.html\n"
     ]
    }
   ],
   "source": [
    "def download_from_user_url():\n",
    "    url = input(\"Enter a CanLII URL: \")\n",
    "    verified_url = verify_url(url)\n",
    "    decision = resolve_url(verified_url)\n",
    "    if decision is None:\n",
    "        return\n",
    "    else:\n",
    "        download_decision(decision[0], decision[1], decision[2])\n",
    "\n",
    "download_from_user_url()"
   ]
  }
 ],
 "metadata": {
  "kernelspec": {
   "display_name": "Python 3 (ipykernel)",
   "language": "python",
   "name": "python3"
  },
  "language_info": {
   "codemirror_mode": {
    "name": "ipython",
    "version": 3
   },
   "file_extension": ".py",
   "mimetype": "text/x-python",
   "name": "python",
   "nbconvert_exporter": "python",
   "pygments_lexer": "ipython3",
   "version": "3.9.2"
  },
  "toc-showmarkdowntxt": false,
  "toc-showtags": false
 },
 "nbformat": 4,
 "nbformat_minor": 5
}
